{
 "cells": [
  {
   "cell_type": "code",
   "execution_count": 1,
   "metadata": {},
   "outputs": [
    {
     "name": "stdout",
     "output_type": "stream",
     "text": [
      "a: 1, b: 2, c: 3\n"
     ]
    }
   ],
   "source": [
    "# Basic unpacking\n",
    "a,b,c = [1,2,3]\n",
    "print(f\"a: {a}, b: {b}, c: {c}\")"
   ]
  },
  {
   "cell_type": "code",
   "execution_count": 2,
   "metadata": {},
   "outputs": [
    {
     "name": "stdout",
     "output_type": "stream",
     "text": [
      "a: 1, b:2, c:[3, 4, 5]\n",
      "\n"
     ]
    }
   ],
   "source": [
    "# Extended Iterable Unpacking\n",
    "a, b, *c = [1,2,3,4,5]\n",
    "print(f\"a: {a}, b:{b}, c:{c}\\n\")"
   ]
  },
  {
   "cell_type": "code",
   "execution_count": null,
   "metadata": {},
   "outputs": [],
   "source": [
    "# Ignoring Values\n",
    "a, _, c = [1,2,3]\n"
   ]
  },
  {
   "cell_type": "code",
   "execution_count": 9,
   "metadata": {},
   "outputs": [
    {
     "name": "stdout",
     "output_type": "stream",
     "text": [
      "Engeneer\n"
     ]
    }
   ],
   "source": [
    "# Unpacking Nested Structures\n",
    "data = (\"Alice\", (25, \"Engeneer\"))\n",
    "name, (age, profession) = data\n",
    "\n",
    "print(profession)"
   ]
  },
  {
   "cell_type": "code",
   "execution_count": 10,
   "metadata": {},
   "outputs": [
    {
     "name": "stdout",
     "output_type": "stream",
     "text": [
      "Alice\n",
      "Bobb\n",
      "Mati\n"
     ]
    }
   ],
   "source": [
    "# Unpacking in Function Arguments\n",
    "def print_names(*names):\n",
    "    for name in names:\n",
    "        print(name)\n",
    "\n",
    "print_names(\"Alice\", \"Bobb\", \"Mati\")"
   ]
  },
  {
   "cell_type": "code",
   "execution_count": 11,
   "metadata": {},
   "outputs": [
    {
     "name": "stdout",
     "output_type": "stream",
     "text": [
      "Combined List: [1, 2, 3, 4, 5, 6]\n",
      "\n"
     ]
    }
   ],
   "source": [
    "# Combining Lists with Unpacking\n",
    "list1 = [1,2,3]\n",
    "list2 = [4,5,6]\n",
    "combined = [*list1, *list2]\n",
    "print(f\"Combined List: {combined}\\n\")"
   ]
  },
  {
   "cell_type": "code",
   "execution_count": 12,
   "metadata": {},
   "outputs": [
    {
     "name": "stdout",
     "output_type": "stream",
     "text": [
      "Combined Dictionary: {'a': 1, 'b': 2, 'c': 3, 'd': 4}\n",
      "\n"
     ]
    }
   ],
   "source": [
    "# Unpacking Dictionaries with **\n",
    "dict1 = {\"a\":1, \"b\":2}\n",
    "dict2 = {\"c\":3, \"d\":4}\n",
    "combined_dict = {**dict1,**dict2}\n",
    "print(f\"Combined Dictionary: {combined_dict}\\n\")"
   ]
  },
  {
   "cell_type": "code",
   "execution_count": 15,
   "metadata": {},
   "outputs": [
    {
     "name": "stdout",
     "output_type": "stream",
     "text": [
      "Before Swap - x: 10, y: 20\n",
      "After Swap - x: 20, y: 10\n",
      "\n"
     ]
    }
   ],
   "source": [
    "# Swapping variables using unpacking\n",
    "x = 10\n",
    "y = 20\n",
    "print(f\"Before Swap - x: {x}, y: {y}\")\n",
    "x, y = y, x\n",
    "print(f\"After Swap - x: {x}, y: {y}\\n\")"
   ]
  },
  {
   "cell_type": "code",
   "execution_count": null,
   "metadata": {},
   "outputs": [],
   "source": [
    "# Variable Annotations\n",
    "name: str = \"Alice\"\n",
    "age: int = 30\n",
    "is_student: bool = False"
   ]
  },
  {
   "cell_type": "code",
   "execution_count": 17,
   "metadata": {},
   "outputs": [
    {
     "data": {
      "text/plain": [
       "'Hello, Mati! You are 1 years old.'"
      ]
     },
     "execution_count": 17,
     "metadata": {},
     "output_type": "execute_result"
    }
   ],
   "source": [
    "# Function Annotations\n",
    "def greet(person: str, age: int) -> str:\n",
    "    \"\"\"Greets a person by name and age.\n",
    "    \n",
    "    :param person: The name of the person (expected to be a string).\n",
    "    :param age: The age of the person (expected to be an integer).\n",
    "    :return: A greeting message (expected to be a string).\"\"\"\n",
    "\n",
    "    return f\"Hello, {person}! You are {age} years old.\"\n",
    "\n",
    "greet(\"Mati\", 1)"
   ]
  },
  {
   "cell_type": "code",
   "execution_count": 21,
   "metadata": {},
   "outputs": [
    {
     "name": "stdout",
     "output_type": "stream",
     "text": [
      "Alice, 30 years old.\n"
     ]
    }
   ],
   "source": [
    "# Descriptor Protocol\n",
    "class Person:\n",
    "    def __init__(self, name: str, age: int):\n",
    "        self.name = name\n",
    "        self.age = age\n",
    "\n",
    "    def __repr__(self) -> str:\n",
    "        \"\"\"\n",
    "        __repr__ is meant to provide an unambiguos string representation of the object.\n",
    "        It is often used for debugging and shpudl ideally return a string that could be\n",
    "        used to create an object.\"\"\"\n",
    "\n",
    "        return f\"Person(name={self.name!r}, age={self.age})\"\n",
    "\n",
    "        \n",
    "    \n",
    "    def __str__(self) -> str:\n",
    "        \"\"\" __str__ is meant to provide a readable string representation of the the object.\n",
    "        It is what gets shown when you print the object or convert it to a string. \"\"\"\n",
    "\n",
    "        return f\"{self.name}, {self.age} years old.\"\n",
    "    \n",
    "# Creating an instance of a Person\n",
    "person = Person(\"Alice\", 30)\n",
    "print(person)"
   ]
  },
  {
   "cell_type": "code",
   "execution_count": 26,
   "metadata": {},
   "outputs": [
    {
     "name": "stdout",
     "output_type": "stream",
     "text": [
      "Before the function excecution.\n",
      "Hello, Alice.\n",
      "After the function execution.\n"
     ]
    }
   ],
   "source": [
    "# Decorators\n",
    "def my_decorator(func):\n",
    "    \"\"\"\n",
    "    A simple decorator that prints a message before and after the excecution of the function.\n",
    "    \"\"\"\n",
    "\n",
    "    def wrapper(*args, **kwargs):\n",
    "        print(\"Before the function excecution.\")\n",
    "        result = func(*args, **kwargs)\n",
    "        print(\"After the function execution.\")\n",
    "        return result\n",
    "\n",
    "    return wrapper\n",
    "\n",
    "@my_decorator\n",
    "def say_hello(name):\n",
    "    \"\"\"A simple function that greets the user.\n",
    "    \"\"\"\n",
    "    print(f\"Hello, {name}.\")\n",
    "\n",
    "\n",
    "if __name__ == \"__main__\":\n",
    "    # Example 1\n",
    "    say_hello(\"Alice\")"
   ]
  },
  {
   "cell_type": "code",
   "execution_count": 27,
   "metadata": {},
   "outputs": [
    {
     "name": "stdout",
     "output_type": "stream",
     "text": [
      "2\n",
      "3\n",
      "4\n",
      "5\n",
      "6\n",
      "7\n",
      "8\n",
      "9\n",
      "Done!\n"
     ]
    }
   ],
   "source": [
    "# Iterations\n",
    "r = range(2, 10)\n",
    "itr = iter(r)\n",
    "\n",
    "while True:\n",
    "    try:\n",
    "        value = next(itr)\n",
    "        print(value)\n",
    "    except StopIteration:\n",
    "        print(\"Done!\")\n",
    "        break"
   ]
  },
  {
   "cell_type": "code",
   "execution_count": 28,
   "metadata": {},
   "outputs": [
    {
     "name": "stdout",
     "output_type": "stream",
     "text": [
      "1\n",
      "2\n",
      "3\n",
      "4\n",
      "5\n",
      "6\n",
      "7\n",
      "8\n",
      "9\n",
      "10\n",
      "11\n",
      "12\n",
      "13\n",
      "14\n",
      "15\n",
      "16\n",
      "17\n",
      "18\n",
      "19\n",
      "20\n",
      "21\n",
      "22\n",
      "23\n",
      "24\n",
      "25\n",
      "26\n",
      "27\n",
      "28\n",
      "29\n",
      "30\n",
      "31\n",
      "32\n",
      "33\n",
      "34\n",
      "35\n",
      "36\n",
      "37\n",
      "38\n",
      "39\n",
      "40\n",
      "41\n",
      "42\n",
      "43\n",
      "44\n",
      "45\n",
      "46\n",
      "47\n",
      "48\n",
      "49\n",
      "50\n",
      "51\n",
      "52\n",
      "53\n",
      "54\n",
      "55\n",
      "56\n",
      "57\n",
      "58\n",
      "59\n",
      "60\n",
      "61\n",
      "62\n",
      "63\n",
      "64\n",
      "65\n",
      "66\n",
      "67\n",
      "68\n",
      "69\n",
      "70\n",
      "71\n",
      "72\n",
      "73\n",
      "74\n",
      "75\n",
      "76\n",
      "77\n",
      "78\n",
      "79\n",
      "80\n",
      "81\n",
      "82\n",
      "83\n",
      "84\n",
      "85\n",
      "86\n",
      "87\n",
      "88\n",
      "89\n",
      "90\n",
      "91\n",
      "92\n",
      "93\n",
      "94\n",
      "95\n",
      "96\n",
      "97\n",
      "98\n",
      "99\n",
      "100\n"
     ]
    }
   ],
   "source": [
    "# Generator\n",
    "def count_up_to(max_value):\n",
    "    \"\"\"A generator function that yeils numbers from 1 upto max_value\"\"\"\n",
    "    current = 1\n",
    "    while current <= max_value:\n",
    "        yield current # Yield the current value and pause excecution\n",
    "        current += 1\n",
    "\n",
    "if __name__ == \"__main__\":\n",
    "    counter = count_up_to(100)\n",
    "\n",
    "# Iterate over the generator\n",
    "    for number in counter:\n",
    "        print(number)"
   ]
  }
 ],
 "metadata": {
  "kernelspec": {
   "display_name": "Python 3",
   "language": "python",
   "name": "python3"
  },
  "language_info": {
   "codemirror_mode": {
    "name": "ipython",
    "version": 3
   },
   "file_extension": ".py",
   "mimetype": "text/x-python",
   "name": "python",
   "nbconvert_exporter": "python",
   "pygments_lexer": "ipython3",
   "version": "3.9.6"
  }
 },
 "nbformat": 4,
 "nbformat_minor": 2
}
