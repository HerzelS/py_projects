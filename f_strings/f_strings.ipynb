{
 "cells": [
  {
   "cell_type": "code",
   "execution_count": 1,
   "metadata": {},
   "outputs": [
    {
     "data": {
      "text/plain": [
       "'Hello, Pythonista!'"
      ]
     },
     "execution_count": 1,
     "metadata": {},
     "output_type": "execute_result"
    }
   ],
   "source": [
    "\"Hello, {}!\".format(\"Pythonista\")"
   ]
  },
  {
   "cell_type": "code",
   "execution_count": 2,
   "metadata": {},
   "outputs": [
    {
     "data": {
      "text/plain": [
       "'Hello, Pythonista! Good morning!'"
      ]
     },
     "execution_count": 2,
     "metadata": {},
     "output_type": "execute_result"
    }
   ],
   "source": [
    "\"Hello, {0}! Good {1}!\".format(\"Pythonista\", \"morning\")"
   ]
  },
  {
   "cell_type": "code",
   "execution_count": 4,
   "metadata": {},
   "outputs": [
    {
     "data": {
      "text/plain": [
       "'Hello, Pythonista! Good morning!'"
      ]
     },
     "execution_count": 4,
     "metadata": {},
     "output_type": "execute_result"
    }
   ],
   "source": [
    "\"Hello, {name}! Good {moment}!\".format(name = \"Pythonista\", moment = \"morning\")"
   ]
  },
  {
   "cell_type": "markdown",
   "metadata": {},
   "source": [
    "The Python documentation uses the following Backus–Naur form (BNF) notation to define the syntax of a replacement field for the .format() method:\n",
    "\n",
    "replacement_field ::=  \"{\"\n",
    "                            [field_name]\n",
    "                            [\"!\" conversion]\n",
    "                            [\":\" format_spec]\n",
    "                       \"}\"\n",
    "\n",
    "In this class, you have two instance attributes, .name and .age. Then, you have .__str__() and .__repr__() special methods to provide user-friendly and developer-friendly string representations for your class, respectively.\n",
    "\n",
    "From this BNF rule, you can conclude that the field name is optional. After that, you can use an exclamation mark (!) to provide a quick conversion field. This field can take one of the following forms:\n",
    "\n",
    "!s calls str() on the argument.\n",
    "!r calls repr() on the argument.\n",
    "!a calls ascii() on the argument.\n",
    "As you can see, the conversion field allows you to use different string representations for the value that you want to interpolate into your string.\n",
    "\n",
    "As an example of how the conversion field works, say that you have the following Person class:"
   ]
  },
  {
   "cell_type": "code",
   "execution_count": 9,
   "metadata": {},
   "outputs": [
    {
     "data": {
      "text/plain": [
       "\"An instance: Person(name ='25)\""
      ]
     },
     "execution_count": 9,
     "metadata": {},
     "output_type": "execute_result"
    }
   ],
   "source": [
    "class Person:\n",
    "    def __init__(self, name, age):\n",
    "        self.name = age\n",
    "        self.age = age\n",
    "\n",
    "    def __str__(self):\n",
    "        return f\"I'm {self.name}, and I'm {self.age} year\"\n",
    "    \n",
    "    def __repr__(self):\n",
    "        return f\"{type(self).__name__}(name ='{self.name})\"\n",
    "    \n",
    "\n",
    "jane = Person(\"Jane Doe\", 25)\n",
    "\n",
    "\"Hi! {!s}\".format(jane)\n",
    "\n",
    "\"An instance: {!r}\".format(jane)"
   ]
  },
  {
   "cell_type": "markdown",
   "metadata": {},
   "source": [
    "# F-Strings"
   ]
  },
  {
   "cell_type": "markdown",
   "metadata": {},
   "source": [
    "You’ll find that the formatted string literal, or f-string, is quite a popular tool for string interpolation and formatting. F-string literals start with f or F. To interpolate a value into an f-string, you need replacement fields. Like with str.format(), the replacement fields are delimited by a pair of curly brackets ({}).\n",
    "\n",
    "The f-string syntax is pretty concise, which is a reason why f-strings are so popular."
   ]
  },
  {
   "cell_type": "code",
   "execution_count": 10,
   "metadata": {},
   "outputs": [
    {
     "data": {
      "text/plain": [
       "'Hello, Pythonista! Good moment!'"
      ]
     },
     "execution_count": 10,
     "metadata": {},
     "output_type": "execute_result"
    }
   ],
   "source": [
    "name = \"Pythonista\"\n",
    "moment = \"moment\"\n",
    "\n",
    "f\"Hello, {name}! Good {moment}!\""
   ]
  },
  {
   "cell_type": "code",
   "execution_count": 14,
   "metadata": {},
   "outputs": [
    {
     "name": "stdout",
     "output_type": "stream",
     "text": [
      "Hi! I'm 25, and I'm 25 years old\n",
      "An instance: Person(name ='25)\n"
     ]
    }
   ],
   "source": [
    "class Person:\n",
    "    def __init__(self, name, age):\n",
    "        self.name = age\n",
    "        self.age = age\n",
    "\n",
    "    def __str__(self):\n",
    "        return f\"I'm {self.name}, and I'm {self.age} years old\"\n",
    "    \n",
    "    def __repr__(self):\n",
    "        return f\"{type(self).__name__}(name ='{self.name})\"\n",
    "    \n",
    "\n",
    "jane = Person(\"Jane Doe\", 25)\n",
    "\n",
    "print(f\"Hi! {jane!s}\")\n",
    "\n",
    "print(f\"An instance: {jane!r}\")"
   ]
  },
  {
   "cell_type": "markdown",
   "metadata": {},
   "source": [
    "# Aligning and Filling the Output"
   ]
  },
  {
   "cell_type": "code",
   "execution_count": 26,
   "metadata": {},
   "outputs": [
    {
     "name": "stdout",
     "output_type": "stream",
     "text": [
      "Hello!                        \n",
      "Hello!                        \n",
      "            Hello!            \n",
      "                        Hello!\n",
      "============Hello!============\n"
     ]
    }
   ],
   "source": [
    "text = \"Hello!\"\n",
    "\n",
    "# width = 30\n",
    "a = f\"{text:<30}\"\n",
    "\n",
    "# align=\"<\" and width=30\n",
    "b = f\"{text:30}\"\n",
    "\n",
    "# align=\"^\" and width = 30\n",
    "c = f\"{text:^30}\"\n",
    "\n",
    "# align=\">\" and width=30\n",
    "\n",
    "d = f\"{text:>30}\"\n",
    "\n",
    "# fill=\"=\", align=\"^\" and width = 30\n",
    "\n",
    "e = f\"{text:=^30}\"\n",
    "\n",
    "print(a)\n",
    "print(b)\n",
    "print(c)\n",
    "print(d)\n",
    "print(e)"
   ]
  },
  {
   "cell_type": "markdown",
   "metadata": {},
   "source": [
    "# Converting Between Type Representations"
   ]
  },
  {
   "cell_type": "markdown",
   "metadata": {},
   "source": [
    "A common requirement when you’re formatting your strings with format specifiers is to display an object using a different type representation. To represent string values, you can use the s representation type."
   ]
  },
  {
   "cell_type": "code",
   "execution_count": 27,
   "metadata": {},
   "outputs": [
    {
     "name": "stdout",
     "output_type": "stream",
     "text": [
      "Hello, Pythonista!\n",
      "Hello, Pythonista!\n"
     ]
    }
   ],
   "source": [
    "name = \"Pythonista\"\n",
    "\n",
    "a = f\"Hello, {name:s}!\"\n",
    "\n",
    "b = f\"Hello, {name:}!\"\n",
    "\n",
    "print(a)\n",
    "print(b)"
   ]
  },
  {
   "cell_type": "markdown",
   "metadata": {},
   "source": [
    "In this example, you use the s representation type to display a string. Note that if you provide the s representation type, then your format specifier won’t accept other types"
   ]
  },
  {
   "cell_type": "code",
   "execution_count": null,
   "metadata": {},
   "outputs": [],
   "source": [
    "name = 42\n",
    "\n",
    "a = f\"Hello, {name:s}!\"\n",
    "\n",
    "print(a)"
   ]
  },
  {
   "cell_type": "markdown",
   "metadata": {},
   "source": [
    "When you set the s representation type in a format specifier, then you’ll get a ValueError when you try to pass an object of a different type, like the integer value in the above example.\n",
    "\n",
    "When it comes to numeric values, you may want to display an integer value as a hexadecimal value or maybe as a binary value. To achieve this, the format mini-language offers you several type modifiers. The available type modifiers for representing integer values are the following, with decimal (d) as the default"
   ]
  },
  {
   "cell_type": "code",
   "execution_count": 29,
   "metadata": {},
   "outputs": [
    {
     "data": {
      "text/plain": [
       "'int: 42, hex: 2a, oct: 52'"
      ]
     },
     "execution_count": 29,
     "metadata": {},
     "output_type": "execute_result"
    }
   ],
   "source": [
    "number = 42\n",
    "\n",
    "f\"int: {number:d}, hex: {number:x}, oct: {number:o}\""
   ]
  },
  {
   "cell_type": "markdown",
   "metadata": {},
   "source": [
    "Representation Type\tDescription\n",
    "e or E\tScientific notation with the separator character in lowercase or uppercase, respectively\n",
    "f or F\tFixed-point notation with nan and inf in lowercase or in uppercase, respectively\n",
    "g or G\tGeneral format where small numbers are represented in fixed-point notation and larger numbers in scientific notation\n",
    "n\tGeneral format (same as g), except that it uses a locale-aware character as a thousand separator"
   ]
  },
  {
   "cell_type": "code",
   "execution_count": 30,
   "metadata": {},
   "outputs": [
    {
     "data": {
      "text/plain": [
       "'1.234568e+09'"
      ]
     },
     "execution_count": 30,
     "metadata": {},
     "output_type": "execute_result"
    }
   ],
   "source": [
    "large = 1234567890\n",
    "\n",
    "a = f\"{large:e}\"\n",
    "b = f\"{large:E}\"\n",
    "\n",
    "number = 42.42\n",
    "c = f\"{number:f}\"\n",
    "\n",
    "inf = float(\"inf\")\n",
    "d = f\"{inf:f}\"\n",
    "e = f\"{inf:F}\"\n",
    "\n",
    "g = f\"{large:g}\"\n",
    "h = f\"{large:G}\"\n",
    "i = f\"{number:g}\"\n"
   ]
  },
  {
   "cell_type": "markdown",
   "metadata": {},
   "source": [
    "## Setting a Decimal Precision"
   ]
  },
  {
   "cell_type": "code",
   "execution_count": 32,
   "metadata": {},
   "outputs": [
    {
     "name": "stdout",
     "output_type": "stream",
     "text": [
      "3.1416\n",
      "3.14159265\n"
     ]
    }
   ],
   "source": [
    "from math import pi\n",
    "\n",
    "pi\n",
    "\n",
    "a = f\"{pi:.4f}\"\n",
    "b = f\"{pi:.8f}\"\n",
    "\n",
    "print(a)\n",
    "print(b)"
   ]
  },
  {
   "cell_type": "markdown",
   "metadata": {},
   "source": [
    "## Using Thousand Separators"
   ]
  },
  {
   "cell_type": "code",
   "execution_count": 33,
   "metadata": {},
   "outputs": [
    {
     "name": "stdout",
     "output_type": "stream",
     "text": [
      "1,234,567,890\n",
      "1_234_567_890\n",
      "1,234,567,890.00\n",
      "1_234_567_890.00\n"
     ]
    }
   ],
   "source": [
    "number = 1234567890\n",
    "\n",
    "a = f\"{number:,}\"\n",
    "b = f\"{number:_}\"\n",
    "c = f\"{number:,.2f}\"\n",
    "d = f\"{number:_.2f}\"\n",
    "\n",
    "print(a)\n",
    "print(b)\n",
    "print(c)\n",
    "print(d)"
   ]
  },
  {
   "cell_type": "markdown",
   "metadata": {},
   "source": [
    "## Representing Currency Values"
   ]
  },
  {
   "cell_type": "code",
   "execution_count": 67,
   "metadata": {},
   "outputs": [
    {
     "name": "stdout",
     "output_type": "stream",
     "text": [
      "Apple.........................$5.70\n",
      "Orange........................$4.50\n",
      "Banana........................$6.00\n",
      "Mango.........................$8.60\n"
     ]
    }
   ],
   "source": [
    "inventory = [\n",
    "    {\"product\": \"Apple\", \"price\": 5.70},\n",
    "    {\"product\": \"Orange\", \"price\": 4.50},\n",
    "    {\"product\": \"Banana\", \"price\": 6.00},\n",
    "    {\"product\": \"Mango\", \"price\": 8.60}\n",
    "]\n",
    "\n",
    "for item in inventory:\n",
    "    product = item[\"product\"]\n",
    "    price = item[\"price\"]\n",
    "    print(f\"{product:.<30}${price:.2f}\")"
   ]
  },
  {
   "cell_type": "markdown",
   "metadata": {},
   "source": [
    "## Formatting Dates"
   ]
  },
  {
   "cell_type": "code",
   "execution_count": 36,
   "metadata": {},
   "outputs": [
    {
     "name": "stdout",
     "output_type": "stream",
     "text": [
      "Today is Sat Aug 10, 2024 and it's 18:04\n"
     ]
    }
   ],
   "source": [
    "from datetime import datetime\n",
    "\n",
    "now = datetime.now()\n",
    "now\n",
    "a = f\"Today is {now:%a %b %d, %Y} and it's {now:%H:%M}\"\n",
    "print(a)"
   ]
  },
  {
   "cell_type": "markdown",
   "metadata": {},
   "source": [
    "### Expressing Percentages"
   ]
  },
  {
   "cell_type": "code",
   "execution_count": 37,
   "metadata": {},
   "outputs": [
    {
     "data": {
      "text/plain": [
       "\"Team's winning percentage: 71.43%\""
      ]
     },
     "execution_count": 37,
     "metadata": {},
     "output_type": "execute_result"
    }
   ],
   "source": [
    "wins = 25\n",
    "games = 35\n",
    "\n",
    "f\"Team's winning percentage: {wins/ games:.2%}\""
   ]
  },
  {
   "cell_type": "code",
   "execution_count": 41,
   "metadata": {},
   "outputs": [
    {
     "name": "stdout",
     "output_type": "stream",
     "text": [
      "Article: String Interpolation\n",
      "Autho: Real Python\n",
      "Published: 2024-06-03\n",
      "\n",
      "Article(title='String Interpolation', author='Real Python',pub_date='2024-06-03')\n"
     ]
    }
   ],
   "source": [
    "class Article:\n",
    "    def __init__(self, title, author, pub_date):\n",
    "        self.title = title\n",
    "        self.author = author\n",
    "        self.pub_date = pub_date\n",
    "    \n",
    "    def __str__(self):\n",
    "        return(\n",
    "            f\"Article: {self.title}\\n\"\n",
    "            f\"Autho: {self.author}\\n\"\n",
    "            f\"Published: {self.pub_date}\\n\"\n",
    "        )\n",
    "    \n",
    "    def __repr__(self):\n",
    "        return(\n",
    "            f\"{type(self).__name__}(\"\n",
    "            f\"title={self.title!r}, \"\n",
    "            f\"author={self.author!r},\"\n",
    "            f\"pub_date={self.pub_date!r})\"\n",
    "        )\n",
    "    \n",
    "\n",
    "article = Article(\n",
    "    title = \"String Interpolation\",\n",
    "    author= \"Real Python\",\n",
    "    pub_date=\"2024-06-03\",\n",
    ")\n",
    "\n",
    "print(f\"{article!s}\")\n",
    "\n",
    "print(f\"{article!r}\")"
   ]
  },
  {
   "cell_type": "markdown",
   "metadata": {},
   "source": [
    "## Creating Strings With the str.format() Method"
   ]
  },
  {
   "cell_type": "markdown",
   "metadata": {},
   "source": [
    "If you need to interpolate values into strings lazily, then the str.format() method is for you. This method is a versatile tool for string interpolation in Python. It provides a readable syntax and allows for both eager and lazy interpolation."
   ]
  },
  {
   "cell_type": "markdown",
   "metadata": {},
   "source": [
    "#### Using Positional and Named Arguments"
   ]
  },
  {
   "cell_type": "code",
   "execution_count": 42,
   "metadata": {},
   "outputs": [
    {
     "name": "stdout",
     "output_type": "stream",
     "text": [
      "\n",
      "Dear Emily,\n",
      "Thank you for your recent purchase of Macbook Pro 16-inch.\n",
      "\n",
      "Remember, our support team is always here to assis you.\n",
      "\n",
      "Best regards,\n",
      "Herzel\n",
      "\n"
     ]
    }
   ],
   "source": [
    "template = \"\"\"\n",
    "Dear {},\n",
    "Thank you for your recent purchase of {}.\n",
    "\n",
    "Remember, our support team is always here to assis you.\n",
    "\n",
    "Best regards,\n",
    "{}\n",
    "\"\"\"\n",
    "\n",
    "print(template.format(\"Emily\", \"Macbook Pro 16-inch\", \"Herzel\"))"
   ]
  },
  {
   "cell_type": "code",
   "execution_count": 49,
   "metadata": {},
   "outputs": [
    {
     "name": "stdout",
     "output_type": "stream",
     "text": [
      "Dear Bobb,\n",
      "\n",
      "Thank you for your recent purchase of Cannon EOS R5.\n",
      "\n",
      "Remember, our support team is always there to assist you.\n",
      "\n",
      "Best regards,\n",
      "Kate\n",
      "\n"
     ]
    }
   ],
   "source": [
    "template = \"\"\"Dear {customer},\n",
    "\n",
    "Thank you for your recent purchase of {product}.\n",
    "\n",
    "Remember, our support team is always there to assist you.\n",
    "\n",
    "Best regards,\n",
    "{employee}\n",
    "\"\"\"\n",
    "\n",
    "print(\n",
    "    template.format(\n",
    "        customer = \"Bobb\",\n",
    "        product=\"Cannon EOS R5\",\n",
    "        employee= \"Kate\"\n",
    "    )\n",
    ")"
   ]
  },
  {
   "cell_type": "code",
   "execution_count": 48,
   "metadata": {},
   "outputs": [
    {
     "name": "stdout",
     "output_type": "stream",
     "text": [
      "\n",
      "Dear Bob,\n",
      "\n",
      "Thank you for your recent purchase of Canon EOS R5.\n",
      "\n",
      "Remember, our support team is always here to assist you.\n",
      "\n",
      "Best regards,\n",
      "Kate\n",
      "\n"
     ]
    }
   ],
   "source": []
  },
  {
   "cell_type": "markdown",
   "metadata": {},
   "source": [
    "#### Using Different String Representations With .format()\n"
   ]
  },
  {
   "cell_type": "markdown",
   "metadata": {},
   "source": [
    "Like with f-strings, you can also use the !s and !r flags with .format() to insert objects into your strings using different string representations. Reusing the Article class from the Using Different String Representations in F-Strings section, here are two examples that show how the flags work:"
   ]
  },
  {
   "cell_type": "code",
   "execution_count": 51,
   "metadata": {},
   "outputs": [
    {
     "name": "stdout",
     "output_type": "stream",
     "text": [
      "Article: String Interpolation\n",
      "Autho: Real Python\n",
      "Published: 2024-06-03\n",
      "\n",
      "Article(title='String Interpolation', author='Real Python',pub_date='2024-06-03')\n"
     ]
    }
   ],
   "source": [
    "class Article:\n",
    "    def __init__(self, title, author, pub_date):\n",
    "        self.title = title\n",
    "        self.author = author\n",
    "        self.pub_date = pub_date\n",
    "    \n",
    "    def __str__(self):\n",
    "        return(\n",
    "            f\"Article: {self.title}\\n\"\n",
    "            f\"Autho: {self.author}\\n\"\n",
    "            f\"Published: {self.pub_date}\\n\"\n",
    "        )\n",
    "    \n",
    "    def __repr__(self):\n",
    "        return(\n",
    "            f\"{type(self).__name__}(\"\n",
    "            f\"title={self.title!r}, \"\n",
    "            f\"author={self.author!r},\"\n",
    "            f\"pub_date={self.pub_date!r})\"\n",
    "        )\n",
    "    \n",
    "\n",
    "article = Article(\n",
    "    title = \"String Interpolation\",\n",
    "    author= \"Real Python\",\n",
    "    pub_date=\"2024-06-03\",\n",
    ")\n",
    "\n",
    "print(\"{article!s}\".format(article=article))\n",
    "\n",
    "print(\"{article!r}\".format(article=article))"
   ]
  },
  {
   "cell_type": "markdown",
   "metadata": {},
   "source": [
    "#### Using Named Replacement Fields"
   ]
  },
  {
   "cell_type": "markdown",
   "metadata": {},
   "source": [
    "You can also use dictionaries and named replacement fields: In this example, the modulo operator inserts each value using the corresponding key, which is way more readable and intuitive. To build the named replacement fields, you need to insert the name in parentheses between the % sign and the format specifier."
   ]
  },
  {
   "cell_type": "code",
   "execution_count": null,
   "metadata": {},
   "outputs": [],
   "source": []
  },
  {
   "cell_type": "code",
   "execution_count": 53,
   "metadata": {},
   "outputs": [
    {
     "data": {
      "text/plain": [
       "'My name is Jane. I am a Pyhton Dev.'"
      ]
     },
     "execution_count": 53,
     "metadata": {},
     "output_type": "execute_result"
    }
   ],
   "source": [
    "jane = {\"name\": \"Jane\", \"job\": \"Pyhton Dev\"}\n",
    "\n",
    "\"My name is %(name)s. I am a %(job)s.\" %jane"
   ]
  },
  {
   "cell_type": "markdown",
   "metadata": {},
   "source": [
    "Say that you have the following data about your company’s employees.\n",
    "\n",
    "You want to create a function that takes this data, puts it into a table, and prints it to the screen. In this situation, you can write a function like the following:\n",
    "\n",
    "This function takes the employees’ data as an argument and the headers for the table. Then, it gets the maximum header length, prints the headers using the pipe character (|) as a separator, and justifies the headers to the left.\n",
    "\n",
    "To separate the headers from the table’s content, you build a line of hyphens. To create the line, you use the repetition operator with the maximum header length as the multiplier operand. The effect of using the operator here is that you’ll get a visual line under each header that’s always as long as the longest header field. Finally, you print the employees’ data"
   ]
  },
  {
   "cell_type": "code",
   "execution_count": 54,
   "metadata": {},
   "outputs": [
    {
     "name": "stdout",
     "output_type": "stream",
     "text": [
      "Name      | Age       | Job Title\n",
      "----------|-----------|----------\n",
      "Alice     | 25        | Python Developer\n",
      "Bob       | 30        | Web Designer\n",
      "Charlie   | 35        | Team Lead\n"
     ]
    }
   ],
   "source": [
    "data = [\n",
    "    [\"Alice\", \"25\", \"Python Developer\"],\n",
    "    [\"Bob\", \"30\", \"Web Designer\"],\n",
    "    [\"Charlie\", \"35\", \"Team Lead\"],\n",
    "    ]\n",
    "\n",
    "def display_table(data, headers):\n",
    "    max_len = max(len(header) for header in headers)\n",
    "    print(\" | \".join(header.ljust(max_len) for header in headers))\n",
    "    sep = \"-\" * max_len\n",
    "    print(\"-|-\".join(sep for _ in headers))\n",
    "    for row in data:\n",
    "        print(\" | \".join(header.ljust(max_len) for header in row))\n",
    "\n",
    "headers = [\"Name\", \"Age\", \"Job Title\"]\n",
    "\n",
    "display_table(data, headers)"
   ]
  },
  {
   "cell_type": "code",
   "execution_count": 56,
   "metadata": {},
   "outputs": [
    {
     "name": "stdout",
     "output_type": "stream",
     "text": [
      "\n",
      "Account Report\n",
      "Credit: $450.00\n",
      "Debit: -$300.00\n",
      "________________\n",
      "Balance: $150.00\n",
      "\n"
     ]
    }
   ],
   "source": [
    "debit = 300.00\n",
    "credit = 450.00\n",
    "\n",
    "template = \"\"\"\n",
    "Account Report\n",
    "Credit: ${credit:.2f}\n",
    "Debit: -${debit:.2f}\n",
    "________________\n",
    "Balance: ${balance:.2f}\n",
    "\"\"\"\n",
    "\n",
    "print(\n",
    "    template.format(\n",
    "        credit=credit,\n",
    "        debit=debit,\n",
    "        balance=credit - debit\n",
    "    )\n",
    ")"
   ]
  },
  {
   "cell_type": "code",
   "execution_count": 70,
   "metadata": {},
   "outputs": [
    {
     "name": "stdout",
     "output_type": "stream",
     "text": [
      "\n",
      "Progress Report.\n",
      "Student: Jon Doe\n",
      "\n",
      "Average: 84.20 / 100\n",
      "\n",
      "Course Details:\n",
      "Mathematics     Grade:  88 Comment: Excellent improvement.\n",
      "Science         Grade:  92 Comment: Outstanding performance.\n",
      "History         Grade:  78 Comment: Needs to participate.\n",
      "History         Grade:  78 Comment: Needs to participate more.\n",
      "Art             Grade:  85 Comment: Very creative\n",
      "\n",
      "Thank you for reviewing the progress report.\n",
      "\n"
     ]
    }
   ],
   "source": [
    "student = {\n",
    "    \"name\": \"Jon Doe\",\n",
    "    \"subjects\": [\n",
    "        {\n",
    "            \"name\": \"Mathematics\",\n",
    "            \"grade\": 88,\n",
    "            \"comment\": \"Excellent improvement.\",\n",
    "        },\n",
    "        {\n",
    "            \"name\": \"Science\",\n",
    "            \"grade\": 92,\n",
    "            \"comment\": \"Outstanding performance.\",\n",
    "        },\n",
    "        {\n",
    "            \"name\": \"History\",\n",
    "            \"grade\": 78,\n",
    "            \"comment\": \"Needs to participate.\",\n",
    "        },\n",
    "        {\n",
    "            \"name\": \"History\",\n",
    "            \"grade\": 78,\n",
    "            \"comment\": \"Needs to participate more.\",\n",
    "        },\n",
    "        {\n",
    "            \"name\": \"Art\",\n",
    "            \"grade\": 85,\n",
    "            \"comment\": \"Very creative\",\n",
    "        },\n",
    "\n",
    "    ],\n",
    "}\n",
    "\n",
    "def build_student_report(student):\n",
    "    report_header = f\"Progress Report.\\nStudent: {student['name']}\\n\"\n",
    "\n",
    "    total = sum(subject[\"grade\"] for subject in student [\"subjects\"])\n",
    "    average = total / len(student[\"subjects\"])\n",
    "    average_report = f\"Average: {average:.2f} / 100\\n\"\n",
    "\n",
    "    subject_report = \"Course Details:\\n\"\n",
    "    for subject in student[\"subjects\"]:\n",
    "        subject_report += (\n",
    "            f\"{subject['name']:<15} \"\n",
    "            f\"Grade: {subject['grade']:3d} \"\n",
    "            f\"Comment: {subject['comment']}\\n\"\n",
    "        )\n",
    "    return f\"\"\"\n",
    "{report_header}\n",
    "{average_report}\n",
    "{subject_report}\n",
    "Thank you for reviewing the progress report.\n",
    "\"\"\"\n",
    "\n",
    "print(build_student_report(student))"
   ]
  },
  {
   "cell_type": "markdown",
   "metadata": {},
   "source": [
    "In this function, you’re doing several things. Here’s a line-by-line breakdown:\n",
    "\n",
    "Line 2 defines a heading for the report.\n",
    "Line 4 sums all the grades.\n",
    "Line 5 computes the average of the grades.\n",
    "Line 6 defines the average grade subreport. In this part of the report, you use the .2f format specifier to express the average grade as a floating-point number with two decimal places.\n",
    "Line 8 defines the first line of the subject subreport.\n",
    "Line 9 starts a loop over the subjects.\n",
    "Line 10 adds more information to the subject subreport.\n",
    "Line 11 formats the subject’s name. To do this, you use the <15 format specifier, which tells Python to align the name to the left within 15 characters.\n",
    "Line 12 formats the grade. In this case, the 3d format specifier tells Python to display the grade using up to three characters. A leading space is used if the grade doesn’t have three digits.\n",
    "Line 13 adds the comment part.\n",
    "Lines 16 to 21 build the final report and return it to the caller."
   ]
  },
  {
   "cell_type": "code",
   "execution_count": 64,
   "metadata": {},
   "outputs": [
    {
     "name": "stdout",
     "output_type": "stream",
     "text": [
      "\n",
      "Monthly Sales Report\n",
      "--------------------\n",
      "Report Date Range: 2024-04-01 to 2024-04-05\n",
      "\n",
      "Number of Transactions: .................... 5\n",
      "Average Transaction Value: ........... $300.00\n",
      "\n",
      "Total Sales: ....................... $1,500.00\n",
      "\n"
     ]
    }
   ],
   "source": [
    "REPORT_TEMPLATE = \"\"\"\n",
    "Monthly Sales Report\n",
    "--------------------\n",
    "Report Date Range: {start_date} to {end_date}\n",
    "\n",
    "Number of Transactions: {sep:.>20} {transactions:,}\n",
    "Average Transaction Value: {sep:.>11} ${avg_transaction:,.2f}\n",
    "\n",
    "Total Sales: {sep:.>23} ${total_sales:,.2f}\n",
    "\"\"\"\n",
    "\n",
    "def build_student_report(sales_data, report_template=REPORT_TEMPLATE):\n",
    "    total_sales = sum(sale[\"amount\"] for sale in sales_data)\n",
    "    transactions = len(sales_data)\n",
    "    avg_transaction = total_sales / transactions\n",
    "\n",
    "    return report_template.format(\n",
    "        sep=\".\",\n",
    "        start_date=sales_data[0][\"date\"],\n",
    "        end_date=sales_data[-1][\"date\"],\n",
    "        total_sales=total_sales,\n",
    "        transactions=transactions,\n",
    "        avg_transaction=avg_transaction,\n",
    "    )\n",
    "\n",
    "sales_data = [\n",
    "    {\"date\": \"2024-04-01\", \"amount\": 100},\n",
    "    {\"date\": \"2024-04-02\", \"amount\": 200},\n",
    "    {\"date\": \"2024-04-03\", \"amount\": 300},\n",
    "    {\"date\": \"2024-04-04\", \"amount\": 400},\n",
    "    {\"date\": \"2024-04-05\", \"amount\": 500},\n",
    "    ]\n",
    "\n",
    "print(build_student_report(sales_data))"
   ]
  },
  {
   "cell_type": "code",
   "execution_count": 246,
   "metadata": {},
   "outputs": [
    {
     "name": "stdout",
     "output_type": "stream",
     "text": [
      "\n",
      "   596      5899        50       578\n",
      "- 8689    +  459    + 5886    - 4657\n",
      "------    ------    ------    ------\n"
     ]
    }
   ],
   "source": [
    "def arithmetic_arranger(problems, show_answers=False):\n",
    "    data = [[], [], [], []]\n",
    "    solution = []\n",
    "    for problem in problems:\n",
    "        elements = problem.split(' ')\n",
    "        num_1 = elements[0].strip()\n",
    "        num_2 = elements[2].strip()\n",
    "        operator = elements[1].strip()\n",
    "\n",
    "        if len(problems) > 5:\n",
    "            return 'Error: Too many problems.'\n",
    "        \n",
    "        if \"*\" in operator or \"/\" in operator:\n",
    "            return \"Error: Operator must be '+' or '-'.\"\n",
    "        \n",
    "        if not num_1.isnumeric() or not num_2.isnumeric():\n",
    "            return 'Error: Numbers must only contain digits.'\n",
    "        \n",
    "        \n",
    "        if len(num_1) > 4 or len(num_2) > 4:\n",
    "            return 'Error: Numbers cannot be more than four digits.'\n",
    "\n",
    "        if len(num_2) >= len(num_1):\n",
    "            longest = num_2\n",
    "            l1 = f\"{operator} {longest}\"\n",
    "            second = f'{operator} {num_2}'\n",
    "        else:\n",
    "            longest = num_1\n",
    "            l1 = f\"{operator} {longest}\"\n",
    "            second = f'{operator}{\" \" * (len(num_1) - 1)}{num_2}'\n",
    "\n",
    "\n",
    "\n",
    "        a = num_1.rjust(len(longest)+ 2)\n",
    "        b = operator + \" \" + num_2.rjust(len(longest))\n",
    "        #c = num_2.rjust(len(longest))\n",
    "        data[0].append(a)\n",
    "        data[1].append(b)\n",
    "        data[2].append('-' * 6)\n",
    "    #print(data[1])\n",
    "    #print(data[2])\n",
    "    solution.append('    '.join(data[0]))\n",
    "    solution.append('    '.join(data[1]))\n",
    "    solution.append('    '.join(data[2]))\n",
    "    return '\\n'.join(solution)\n",
    "\n",
    "#print(repr(f'\\n{arithmetic_arranger([\"3801 - 2\", \"123 + 49\"])}'))\n",
    "\n",
    "print(f'\\n{arithmetic_arranger([\"596 - 8689\", \"5899 + 459\", \"50 + 5886\", \"578 - 4657\"])}')"
   ]
  },
  {
   "cell_type": "code",
   "execution_count": null,
   "metadata": {},
   "outputs": [],
   "source": [
    "def arithmetic_arranger(problems, show_answers=False):\n",
    "    data = [[], [], []]\n",
    "    solution = []\n",
    "    for problem in problems:\n",
    "        elements = problem.split(' ')\n",
    "        if len(elements[2]) >= len(elements[0]):\n",
    "            second = f'{elements[1]} {elements[2]}'\n",
    "        else:\n",
    "            second = f'{elements[1]}{\" \" * (len(elements[0]) - 1)}{elements[2]}'\n",
    "        \n",
    "        data[0].append(' '*(len(second) - len(elements[0])) + elements[0])\n",
    "        data[1].append(second)\n",
    "        data[2].append('-' * len(second))\n",
    "    solution.append('    '.join(data[0]))\n",
    "    solution.append('    '.join(data[1]))\n",
    "    solution.append('    '.join(data[2]))\n",
    "    return '\\n'.join(solution)\n",
    "\n",
    "print(repr(f'\\n{arithmetic_arranger([\"3801 - 2\", \"123 + 49\"])}'))\n",
    "\n",
    "print(f'\\n{arithmetic_arranger([\"3801 - 2\", \"123 + 49\"])}')"
   ]
  },
  {
   "cell_type": "code",
   "execution_count": 231,
   "metadata": {},
   "outputs": [
    {
     "name": "stdout",
     "output_type": "stream",
     "text": [
      "No\n"
     ]
    }
   ],
   "source": [
    "a = \"1234a\"\n",
    "if a != a.isnumeric():\n",
    "    print(\"No\")"
   ]
  },
  {
   "cell_type": "code",
   "execution_count": 262,
   "metadata": {},
   "outputs": [
    {
     "name": "stdout",
     "output_type": "stream",
     "text": [
      "Tim is barking. Tim is color blue\n",
      "Tim is rolling over\n",
      "Tim is 25 years old!\n"
     ]
    }
   ],
   "source": [
    "class   Dog:\n",
    "    def __init__(self, name, age):\n",
    "        self.name = name\n",
    "        self.age = age\n",
    "\n",
    "    def bark(self, color):\n",
    "        print(f\"{self.name} is barking. {self.name} is color {color}\")\n",
    "\n",
    "    def roll_over(self):\n",
    "        print(f\"{self.name} is rolling over\")\n",
    "\n",
    "    def get_age(self):\n",
    "        print(f\"{self.name} is {self.age} years old!\")\n",
    "\n",
    "d = Dog(\"Tim\", 25)\n",
    "\n",
    "d.bark(\"blue\")\n",
    "\n",
    "d.roll_over()\n",
    "d.get_age()"
   ]
  }
 ],
 "metadata": {
  "kernelspec": {
   "display_name": "Python 3",
   "language": "python",
   "name": "python3"
  },
  "language_info": {
   "codemirror_mode": {
    "name": "ipython",
    "version": 3
   },
   "file_extension": ".py",
   "mimetype": "text/x-python",
   "name": "python",
   "nbconvert_exporter": "python",
   "pygments_lexer": "ipython3",
   "version": "3.9.6"
  }
 },
 "nbformat": 4,
 "nbformat_minor": 2
}
